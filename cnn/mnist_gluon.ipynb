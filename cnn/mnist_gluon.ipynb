{
 "cells": [
  {
   "cell_type": "markdown",
   "metadata": {
    "collapsed": true
   },
   "source": [
    "# Handwritten Digit Recognition\n",
    "\n",
    "This tutorial guides you through implementing a classic computer vision application: identifying handwritten digits with neural networks. \n",
    "    \n",
    "## Learning points\n",
    "1. How to prepare image data for training?\n",
    "    * batching and color channels\n",
    "    * 2d or 4d tensors for raw image data\n",
    "2. How to use a high-level framework (MXNet/Gluon) to create a neural model?\n",
    "    * fully-connected and convolution layers\n",
    "    * stacking layers\n",
    "3. How to train the model?\n",
    "    * typical training loop\n",
    "    * model evaluation\n",
    "    \n",
    "## Prepare data\n",
    "\n",
    "We first download the [MNIST](http://yann.lecun.com/exdb/mnist/) dataset, a commonly used dataset for handwritten digit recognition.\n",
    "\n",
    "* Each image in this dataset has been center-cropped to 28x28 with grayscale pixel value [0, 255].\n",
    "* Each image has only a single color channel, rather than three channels as for RGB images.\n",
    "* There are two separate sets of files. The training set contains 60000 examples, and the test set 10000 examples.\n",
    "* Each example includes an image and a label.\n",
    "\n",
    "See more details about the dataset at http://yann.lecun.com/exdb/mnist/.\n",
    "\n",
    "### 2d and 4d tensors for raw images\n",
    "\n",
    "You are familiar with images being stored as a 2d matrix, (width, height). For an image with multiple color channels, you can use a 3d tensor (color_channel, width, height).\n",
    "\n",
    "If we have a bunch of images, we can use 4d tensors to represent them, by adding a new batch_size dimension,\n",
    "\n",
    "**(batch_size, color_channel, width, height)**\n",
    "\n",
    "For example, the grayscale digit image (28, 28) can be stored in memory as (1, 28, 28), and a batch of 100 images can be stored as a **(100, 1, 28, 28)** tensor. \n",
    "    \n",
    "This 4d tensor format for raw images would be later used as input to convolution layer.\n",
    "\n",
    "An alternative way to represent the raw images is to flatten the all the dimensions except for the batch_size dimension.\n",
    "\n",
    "For example, (100, 1, 28, 28) can be flattened to (100, 784). This 2d tensor format is later used as input to fully-connected layer.\n",
    "\n",
    "Now, let's first download and load the images and the corresponding labels. Then, we will process the raw images to the appropriate formats."
   ]
  },
  {
   "cell_type": "code",
   "execution_count": 18,
   "metadata": {},
   "outputs": [
    {
     "name": "stderr",
     "output_type": "stream",
     "text": [
      "/usr/local/lib/python2.7/dist-packages/ipykernel_launcher.py:19: DeprecationWarning: The binary mode of fromstring is deprecated, as it behaves surprisingly on unicode inputs. Use frombuffer instead\n",
      "/usr/local/lib/python2.7/dist-packages/ipykernel_launcher.py:22: DeprecationWarning: The binary mode of fromstring is deprecated, as it behaves surprisingly on unicode inputs. Use frombuffer instead\n"
     ]
    }
   ],
   "source": [
    "import numpy as np\n",
    "import os\n",
    "import urllib\n",
    "import gzip\n",
    "import struct\n",
    "\n",
    "def download_data(url, force_download=True):\n",
    "    \"\"\"Download data file to disk and returns filename.\"\"\"\n",
    "    fname = url.split(\"/\")[-1]\n",
    "    if force_download or not os.path.exists(fname):\n",
    "        urllib.urlretrieve(url, fname)\n",
    "    return fname\n",
    "\n",
    "def read_data(label_url, image_url):\n",
    "    \"\"\"Download and deserialize raw data to numpy ndarray. Return (label, image) tuple.\"\"\"\n",
    "    # the original files are gzip-compressed with a particular serialization format\n",
    "    with gzip.open(download_data(label_url)) as flbl:\n",
    "        magic, num = struct.unpack(\">II\", flbl.read(8))\n",
    "        label = np.fromstring(flbl.read(), dtype=np.int8)\n",
    "    with gzip.open(download_data(image_url), 'rb') as fimg:\n",
    "        magic, num, rows, cols = struct.unpack(\">IIII\", fimg.read(16))\n",
    "        image = np.fromstring(fimg.read(), dtype=np.uint8).reshape(len(label), rows, cols)\n",
    "    return (label, image)\n",
    "\n",
    "path='http://yann.lecun.com/exdb/mnist/'\n",
    "\n",
    "# label, image tuple\n",
    "(train_lbl, train_img) = read_data(\n",
    "    path + 'train-labels-idx1-ubyte.gz', path + 'train-images-idx3-ubyte.gz')\n",
    "(test_lbl, test_img) = read_data(\n",
    "    path + 't10k-labels-idx1-ubyte.gz', path + 't10k-images-idx3-ubyte.gz')\n",
    "\n",
    "# check raw data\n",
    "\n",
    "# type(train_lbl)\n",
    "# numpy.ndarray\n",
    "# https://docs.scipy.org/doc/numpy-1.13.0/reference/generated/numpy.ndarray.html\n",
    "\n",
    "# train_lbl.shape\n",
    "# (60000,)\n",
    "# train_lbl.dtype\n",
    "# dtype('int8')\n",
    "\n",
    "# train_img.shape\n",
    "# (60000, 28, 28)\n",
    "# train_img.dtype\n",
    "# dtype('uint8')"
   ]
  },
  {
   "cell_type": "code",
   "execution_count": null,
   "metadata": {},
   "outputs": [],
   "source": [
    "To get a sense for the raw digit images, we can plot the first 10 images. "
   ]
  },
  {
   "cell_type": "code",
   "execution_count": 19,
   "metadata": {
    "scrolled": true
   },
   "outputs": [
    {
     "data": {
      "image/png": "[encoded data removed]",
      "text/plain": [
       "<matplotlib.figure.Figure at 0x7f9092264d10>"
      ]
     },
     "metadata": {},
     "output_type": "display_data"
    },
    {
     "name": "stdout",
     "output_type": "stream",
     "text": [
      "label: [5 0 4 1 9 2 1 3 1 4]\n"
     ]
    }
   ],
   "source": [
    "%matplotlib inline\n",
    "import matplotlib.pyplot as plt\n",
    "\n",
    "num_inst = 10\n",
    "for i in range(num_inst):\n",
    "    plt.subplot(1,num_inst,i+1)\n",
    "    # train_img[i] has shape (28, 28)\n",
    "    plt.imshow(train_img[i], cmap='Greys_r')\n",
    "    plt.axis('off')\n",
    "plt.show()\n",
    "print('label: %s' % (train_lbl[0:num_inst],))"
   ]
  },
  {
   "cell_type": "markdown",
   "metadata": {},
   "source": [
    "### Data iterator to iterate raw data by mini-batches\n",
    "\n",
    "We can train neural network by looking at one image/label at a time, but when there is parallelism from the CPU/GPU hardware,it is far more efficient to look at batches of images at a time.\n",
    "\n",
    "To iterate images by mini-batches, we can manually write a for loop and look at chunks of data at a time, or we can use data iterators typically already provided from deep learning frameworks. \n",
    "\n",
    "Let's use mx.gluon.data.DataLoader and gluon.data.ArrayDataset to create our data iterators.\n",
    "\n",
    "Note that there's an option to shuffle the data rows, which is typically done for training data, but not validation/test data."
   ]
  },
  {
   "cell_type": "code",
   "execution_count": 20,
   "metadata": {},
   "outputs": [],
   "source": [
    "import mxnet as mx\n",
    "from mxnet import nd, autograd, gluon\n",
    "mx.random.seed(1)\n",
    "\n",
    "def to4d(img):\n",
    "    \"\"\"Reshape img to 4d tensor and normalize pixel values to [0, 1].\"\"\"\n",
    "    return img.reshape(img.shape[0], 1, 28, 28).astype(np.float32)/255\n",
    "\n",
    "batch_size = 100\n",
    "train_iter = mx.gluon.data.DataLoader(gluon.data.ArrayDataset(to4d(train_img), train_lbl), batch_size, shuffle=True)\n",
    "test_iter = mx.gluon.data.DataLoader(gluon.data.ArrayDataset(to4d(test_img), test_lbl), batch_size)\n",
    "\n",
    "# DataLoader has a method\n",
    "# def __iter__(self):\n",
    "# to see how iterators work, try\n",
    "# for i, (data, label) in enumerate(train_iter):\n",
    "#     print i, data.shape, label.shape"
   ]
  },
  {
   "cell_type": "markdown",
   "metadata": {},
   "source": [
    "## Multilayer Perceptron (MLP)\n",
    "\n",
    "Now, we are ready to create neural models.\n",
    "\n",
    "One simple model is called multilayer perceptron (MLP).\n",
    "MLP is made up of several fully-connected layers (or called dense layers) stacked one after another, followed by a softmax layer for label prediction.\n",
    "\n",
    "A fully-connected layer is an affine transformation taking input tensor *X* to output tensor *Y*, with two parameters, weight *W* and bias *b*.\n",
    "\n",
    "For the non-batched version, we have the following dimensions for each variable,\n",
    "\n",
    "\\begin{align}\n",
    "\\underset{1xk}{Y} &= \\underset{1xm}{x} \\underset{mxk}{W} + \\underset{1xk}{b}\n",
    "\\end{align}\n",
    "\n",
    "We usually work with batched version, and it has the following dimensions for each variable,\n",
    "\n",
    "\\begin{align}\n",
    "\\underset{nxk}{Y} &= \\underset{nxm}{X} \\underset{mxk}{W} + \\underset{nxk}{B}\n",
    "\\end{align}\n",
    "\n",
    "Note that the bias vector is usually specified as a vector 1xk, rather than a full tensor nxk, and relies on array broadcasting to get the right dimension.\n",
    "\n",
    "The output of a hidden layer is then passed through a non-linear activation layer, e.g., apply sigmoid, tanh or ReLU on output element-wise.\n",
    "\n",
    "The output of the activation layer can be fed as input to the next fully-connected layer. In this way, we can chain multiple full-connected layer.\n",
    "\n",
    "Note that if we do not use activation layer, multiple affine transformation is equivalent to a single affine transformation. Activation layer is necessary to add non-linearity.\n",
    "\n",
    "The last fully-connected layer often has the hidden size equals to the number of classes in the dataset. \n",
    "Then we add a softmax layer, which map the input into a probability score.\n",
    "Assume the input *X* has size *n x m*, the output *Y* would also have size *n x m*, where each row is a normalized probability vector,\n",
    "\n",
    "$$ \\left[\\frac{\\exp(x_{i1})}{\\sum_{j=1}^m \\exp(x_{ij})},\\ldots, \\frac{\\exp(x_{im})}{\\sum_{j=1}^m \\exp(x_{ij})}\\right] $$\n",
    "\n",
    "To evaluate how well the predictions are, we use cross-entropy loss,\n",
    "\n",
    "\\begin{align}\n",
    "L = \\frac{1}{N} \\sum y \\log{\\hat{y}}\n",
    "\\end{align}\n",
    "where *y* is the one-hot vector of true label, and $\\hat{y}$ is the estimated probability from softmax layer.\n",
    "\n",
    "Here's how we would create a multilayer perceptron in MXNet using Gluon frontend."
   ]
  },
  {
   "cell_type": "code",
   "execution_count": 31,
   "metadata": {},
   "outputs": [
    {
     "name": "stdout",
     "output_type": "stream",
     "text": [
      "Sequential(\n",
      "  (0): Dense(None -> 128, Activation(relu))\n",
      "  (1): Dense(None -> 64, Activation(relu))\n",
      "  (2): Dense(None -> 10, linear)\n",
      ")\n"
     ]
    }
   ],
   "source": [
    "num_inputs = 784\n",
    "num_outputs = 10\n",
    "num_examples = 60000\n",
    "\n",
    "net = gluon.nn.Sequential()\n",
    "with net.name_scope():\n",
    "    net.add(gluon.nn.Dense(128, activation=\"relu\"))\n",
    "    net.add(gluon.nn.Dense(64, activation=\"relu\"))\n",
    "    net.add(gluon.nn.Dense(num_outputs))\n",
    "\n",
    "# at the end of the 3rd dense layer, there is no activation layer after it\n",
    "# you can use a softmax layer to make predictions or use a softmax_cross_entropy layer to evaluate loss function\n",
    "    \n",
    "softmax_cross_entropy = gluon.loss.SoftmaxCrossEntropyLoss()\n",
    "\n",
    "# visualize the network\n",
    "print(net)"
   ]
  },
  {
   "cell_type": "markdown",
   "metadata": {},
   "source": [
    "### Initialize parameters\n",
    "\n",
    "There are many ways to initialize parameters. For different types of layers, we may need different initialization functions.\n",
    "\n",
    "Read more about initialization at http://cs231n.github.io/neural-networks-2/#init."
   ]
  },
  {
   "cell_type": "code",
   "execution_count": 32,
   "metadata": {},
   "outputs": [],
   "source": [
    "data_ctx = mx.cpu()\n",
    "model_ctx = mx.cpu()\n",
    "#model_ctx = mx.gpu(0)\n",
    "\n",
    "net.collect_params().initialize(mx.init.Normal(sigma=.1), ctx=model_ctx)"
   ]
  },
  {
   "cell_type": "markdown",
   "metadata": {},
   "source": [
    "### Evaluation metric\n",
    "We can evaluate training/validation set loss by running predictions and compute the average prediction accuracy.\n",
    "\n",
    "Note that we can extract the predicted label from probability vector with argmax."
   ]
  },
  {
   "cell_type": "code",
   "execution_count": 23,
   "metadata": {},
   "outputs": [],
   "source": [
    "def evaluate_accuracy(data_iterator, net):\n",
    "    \"\"\"Make predictions for the dataset and evaluate average accuracy.\"\"\"\n",
    "    acc = mx.metric.Accuracy()\n",
    "    for i, (data, label) in enumerate(data_iterator):\n",
    "        # reshape to (batch_size, 784)\n",
    "        data = data.as_in_context(model_ctx).reshape((-1, 784))\n",
    "        label = label.as_in_context(model_ctx)\n",
    "        output = net(data)\n",
    "        # skipped a softmax layer since it doesn't change predictions\n",
    "        # use argmax to extract predicted label\n",
    "        predictions = nd.argmax(output, axis=1)\n",
    "        acc.update(preds=predictions, labels=label)\n",
    "    return acc.get()[1]"
   ]
  },
  {
   "cell_type": "markdown",
   "metadata": {},
   "source": [
    "### Training Loop\n",
    "Now that both the network definition and data iterators are ready. We can start training. \n",
    "\n",
    "We make multiple complete passes over the training data.\n",
    "Each pass is called an epoch.\n",
    "In each epoch, we partition the training data to mini-batches.\n",
    "For each mini-batch, we compute a forward pass of the network to get the predicted output.\n",
    "Then, we do a backward pass, where we compute the loss function and the gradients of each model parameter.\n",
    "We then update each model parameter **w** with its gradient multipled by learning rate,\n",
    "\n",
    "\\begin{align}\n",
    "w = w - \\alpha \\nabla{w}\n",
    "\\end{align}"
   ]
  },
  {
   "cell_type": "code",
   "execution_count": 33,
   "metadata": {},
   "outputs": [
    {
     "name": "stdout",
     "output_type": "stream",
     "text": [
      "Epoch 0. Loss: 1.3342837404886883, Train_acc 0.825233333333, Test_acc 0.8312\n",
      "Epoch 1. Loss: 0.5209331289291382, Train_acc 0.87725, Test_acc 0.8819\n",
      "Epoch 2. Loss: 0.40187606096267703, Train_acc 0.892033333333, Test_acc 0.8957\n",
      "Epoch 3. Loss: 0.3533502266248067, Train_acc 0.904283333333, Test_acc 0.907\n",
      "Epoch 4. Loss: 0.3226732822259267, Train_acc 0.910666666667, Test_acc 0.9129\n",
      "Epoch 5. Loss: 0.29940965234438577, Train_acc 0.916433333333, Test_acc 0.9166\n",
      "Epoch 6. Loss: 0.28097003326416015, Train_acc 0.922133333333, Test_acc 0.9239\n",
      "Epoch 7. Loss: 0.26511233716011046, Train_acc 0.925166666667, Test_acc 0.9263\n",
      "Epoch 8. Loss: 0.2513415776570638, Train_acc 0.929766666667, Test_acc 0.9307\n",
      "Epoch 9. Loss: 0.23935178130467732, Train_acc 0.9324, Test_acc 0.9329\n"
     ]
    }
   ],
   "source": [
    "# get a optimizer doing SGD with fixed learning rate\n",
    "trainer = gluon.Trainer(net.collect_params(), 'sgd', {'learning_rate': .01})\n",
    "\n",
    "epochs = 10\n",
    "smoothing_constant = .01\n",
    "\n",
    "for e in range(epochs):\n",
    "    cumulative_loss = 0\n",
    "    for i, (data, label) in enumerate(train_iter):\n",
    "        # reshape to (batch_size, 784)\n",
    "        data = data.as_in_context(model_ctx).reshape((-1, 784))\n",
    "        label = label.as_in_context(model_ctx)\n",
    "        # this \"with\" record allows us to do automatic differentiation\n",
    "        # basically remembering how the output is compute from the input\n",
    "        # we can use chain rules to find out the gradients of loss function wrt inputs\n",
    "        with autograd.record():\n",
    "            output = net(data)\n",
    "            loss = softmax_cross_entropy(output, label)\n",
    "        # compute all gradients\n",
    "        loss.backward()\n",
    "        # Perform the weight update.\n",
    "        # Trainer needs to know the batch size of data to normalize the gradients by 1/batch_size.\n",
    "        trainer.step(data.shape[0])\n",
    "        cumulative_loss += nd.sum(loss).asscalar()\n",
    "\n",
    "    test_accuracy = evaluate_accuracy(test_iter, net)\n",
    "    train_accuracy = evaluate_accuracy(train_iter, net)\n",
    "    print(\"Epoch %s. Loss: %s, Train_acc %s, Test_acc %s\" %\n",
    "          (e, cumulative_loss/num_examples, train_accuracy, test_accuracy))"
   ]
  },
  {
   "cell_type": "markdown",
   "metadata": {
    "collapsed": true
   },
   "source": [
    "### Inference.\n",
    "\n",
    "After training is done, we can make prediction on test images. \n",
    "\n",
    "Let's try it for a single image."
   ]
  },
  {
   "cell_type": "code",
   "execution_count": 28,
   "metadata": {},
   "outputs": [
    {
     "data": {
      "image/png": "[encoded data removed]",
      "text/plain": [
       "<matplotlib.figure.Figure at 0x7f90959ea950>"
      ]
     },
     "metadata": {},
     "output_type": "display_data"
    },
    {
     "name": "stdout",
     "output_type": "stream",
     "text": [
      "Predicted digit is 7\n"
     ]
    }
   ],
   "source": [
    "# show test image\n",
    "plt.imshow(test_img[0], cmap='Greys_r')\n",
    "plt.axis('off')\n",
    "plt.show()\n",
    "\n",
    "# make prediction\n",
    "output = net(nd.array(to4d(test_img[0:1]).reshape((-1, 784))))\n",
    "print \"Predicted digit is\", np.asscalar(nd.argmax(output, axis=1).asnumpy().astype(np.int8))"
   ]
  },
  {
   "cell_type": "markdown",
   "metadata": {},
   "source": [
    "We can recognizes the digit drawn on the box below. "
   ]
  },
  {
   "cell_type": "code",
   "execution_count": null,
   "metadata": {},
   "outputs": [],
   "source": [
    "from IPython.display import HTML\n",
    "import cv2\n",
    "import numpy as np\n",
    "\n",
    "def classify(img):\n",
    "    print \"he\"\n",
    "    print img.shape\n",
    "    img = img[len('data:image/png;base64,'):].decode('base64')\n",
    "    img = cv2.imdecode(np.fromstring(img, np.uint8), -1)\n",
    "    img = cv2.resize(img[:,:,3], (28,28))\n",
    "    output = net(nd.array(to4d(img).reshape((-1, 784))))\n",
    "    print output\n",
    "    #return np.asscalar(nd.argmax(output, axis=1).asnumpy().astype(np.int8))\n",
    "    return 5\n",
    "\n",
    "'''\n",
    "To see the model in action, run the demo notebook at\n",
    "https://github.com/dmlc/mxnet-notebooks/blob/master/python/tutorials/mnist.ipynb.\n",
    "'''\n",
    "HTML(filename=\"mnist_demo.html\")"
   ]
  },
  {
   "cell_type": "markdown",
   "metadata": {},
   "source": [
    "## Convolutional Neural Networks (ConvNets)\n",
    "\n",
    "ConvNets is a neural architecture that has a reduced model parameter size compared to MLP, and has been shown to achieve higher accuracy on many vision datasets.\n",
    "\n",
    "ConvNets introduces two additional layers, the convolution layer and max-pooling layers, on top of fully-connected layers.\n",
    "\n",
    "Note that the previous fully-connected layer simply flattens the image to a vector, with input dimension (batch_size, 784).\n",
    "It ignores the spatial locality information for pixels near each other.\n",
    "\n",
    "The newly introduced convolutional layer aims to leverage the spatial locality by doing a convolution operation on the input image. \n",
    "The convolution operation can be visualized as follows."
   ]
  },
  {
   "cell_type": "markdown",
   "metadata": {},
   "source": [
    "<img src=\"https://thatindiandude.github.io/images/conv.png\" style=\"height: 75%; width: 75%;\">"
   ]
  },
  {
   "cell_type": "markdown",
   "metadata": {},
   "source": [
    "The convolution is specified by kernel width, kernel height, num_channel, stride and padding.\n",
    "Note that the num_channel has to be the same as the num_channel dimension of the input image."
   ]
  },
  {
   "cell_type": "markdown",
   "metadata": {},
   "source": [
    "We can also have multiple feature maps, each with their own weight matrices, to capture different features: \n",
    "<img src=\"https://thatindiandude.github.io/images/filters.png\" style=\"height: 75%; width: 75%;\">"
   ]
  },
  {
   "cell_type": "markdown",
   "metadata": {},
   "source": [
    "Besides the convolutional layer, another major innovation of ConvNets is the addition of pooling layers.\n",
    "A pooling layer reduce a $n\\times m$ (often called kernal size) image patch into a single value to make the network less sensitive to the spatial location.\n",
    "\n",
    "<img src=\"https://thatindiandude.github.io/images/pooling.png\" style=\"height: 75%; width: 75%;\">"
   ]
  },
  {
   "cell_type": "code",
   "execution_count": 38,
   "metadata": {},
   "outputs": [
    {
     "name": "stdout",
     "output_type": "stream",
     "text": [
      "Sequential(\n",
      "  (0): Conv2D(None -> 20, kernel_size=(5, 5), stride=(1, 1))\n",
      "  (1): MaxPool2D(size=(2, 2), stride=(2, 2), padding=(0, 0), ceil_mode=False)\n",
      "  (2): Conv2D(None -> 50, kernel_size=(5, 5), stride=(1, 1))\n",
      "  (3): MaxPool2D(size=(2, 2), stride=(2, 2), padding=(0, 0), ceil_mode=False)\n",
      "  (4): Flatten\n",
      "  (5): Dense(None -> 512, Activation(relu))\n",
      "  (6): Dense(None -> 10, linear)\n",
      ")\n"
     ]
    }
   ],
   "source": [
    "num_fc = 512\n",
    "num_outputs = 10\n",
    "net = gluon.nn.Sequential()\n",
    "with net.name_scope():\n",
    "    net.add(gluon.nn.Conv2D(channels=20, kernel_size=5, activation='relu'))\n",
    "    net.add(gluon.nn.MaxPool2D(pool_size=2, strides=2))\n",
    "    net.add(gluon.nn.Conv2D(channels=50, kernel_size=5, activation='relu'))\n",
    "    net.add(gluon.nn.MaxPool2D(pool_size=2, strides=2))\n",
    "    # The Flatten layer collapses all axis, except the first one, into one axis.\n",
    "    net.add(gluon.nn.Flatten())\n",
    "    net.add(gluon.nn.Dense(num_fc, activation=\"relu\"))\n",
    "    net.add(gluon.nn.Dense(num_outputs))\n",
    "\n",
    "softmax_cross_entropy = gluon.loss.SoftmaxCrossEntropyLoss()\n",
    "    \n",
    "print(net)"
   ]
  },
  {
   "cell_type": "markdown",
   "metadata": {},
   "source": [
    "Note that LeNet is more complex than the previous multilayer perceptron, so we use GPU instead of CPU for training. "
   ]
  },
  {
   "cell_type": "code",
   "execution_count": null,
   "metadata": {},
   "outputs": [],
   "source": [
    "model_ctx = mx.gpu()"
   ]
  },
  {
   "cell_type": "markdown",
   "metadata": {},
   "source": [
    "Don't forget to initialize the model again. This time is a different initialization technique."
   ]
  },
  {
   "cell_type": "code",
   "execution_count": null,
   "metadata": {},
   "outputs": [],
   "source": [
    "net.collect_params().initialize(mx.init.Xavier(magnitude=2.24), ctx=model_ctx)"
   ]
  },
  {
   "cell_type": "markdown",
   "metadata": {},
   "source": [
    "The usual training loop. Note that the raw image data is now fed as a 4d tensor to conv layer."
   ]
  },
  {
   "cell_type": "code",
   "execution_count": 40,
   "metadata": {},
   "outputs": [
    {
     "name": "stderr",
     "output_type": "stream",
     "text": [
      "/usr/local/lib/python2.7/dist-packages/mxnet/gluon/parameter.py:320: UserWarning: Parameter sequential5_conv0_weight is already initialized, ignoring. Set force_reinit=True to re-initialize.\n",
      "  \"Set force_reinit=True to re-initialize.\"%self.name)\n",
      "/usr/local/lib/python2.7/dist-packages/mxnet/gluon/parameter.py:320: UserWarning: Parameter sequential5_conv0_bias is already initialized, ignoring. Set force_reinit=True to re-initialize.\n",
      "  \"Set force_reinit=True to re-initialize.\"%self.name)\n",
      "/usr/local/lib/python2.7/dist-packages/mxnet/gluon/parameter.py:320: UserWarning: Parameter sequential5_conv1_weight is already initialized, ignoring. Set force_reinit=True to re-initialize.\n",
      "  \"Set force_reinit=True to re-initialize.\"%self.name)\n",
      "/usr/local/lib/python2.7/dist-packages/mxnet/gluon/parameter.py:320: UserWarning: Parameter sequential5_conv1_bias is already initialized, ignoring. Set force_reinit=True to re-initialize.\n",
      "  \"Set force_reinit=True to re-initialize.\"%self.name)\n",
      "/usr/local/lib/python2.7/dist-packages/mxnet/gluon/parameter.py:320: UserWarning: Parameter sequential5_dense0_weight is already initialized, ignoring. Set force_reinit=True to re-initialize.\n",
      "  \"Set force_reinit=True to re-initialize.\"%self.name)\n",
      "/usr/local/lib/python2.7/dist-packages/mxnet/gluon/parameter.py:320: UserWarning: Parameter sequential5_dense0_bias is already initialized, ignoring. Set force_reinit=True to re-initialize.\n",
      "  \"Set force_reinit=True to re-initialize.\"%self.name)\n",
      "/usr/local/lib/python2.7/dist-packages/mxnet/gluon/parameter.py:320: UserWarning: Parameter sequential5_dense1_weight is already initialized, ignoring. Set force_reinit=True to re-initialize.\n",
      "  \"Set force_reinit=True to re-initialize.\"%self.name)\n",
      "/usr/local/lib/python2.7/dist-packages/mxnet/gluon/parameter.py:320: UserWarning: Parameter sequential5_dense1_bias is already initialized, ignoring. Set force_reinit=True to re-initialize.\n",
      "  \"Set force_reinit=True to re-initialize.\"%self.name)\n"
     ]
    },
    {
     "name": "stdout",
     "output_type": "stream",
     "text": [
      "Epoch 0. Loss: 0.0608706703265508, Train_acc 0.982616666667, Test_acc 0.9827\n",
      "Epoch 1. Loss: 0.0573386001487573, Train_acc 0.985016666667, Test_acc 0.9841\n",
      "Epoch 2. Loss: 0.0532922143181165, Train_acc 0.9843, Test_acc 0.9822\n",
      "Epoch 3. Loss: 0.05092270179986954, Train_acc 0.987066666667, Test_acc 0.9854\n",
      "Epoch 4. Loss: 0.04847162826756636, Train_acc 0.988, Test_acc 0.9854\n",
      "Epoch 5. Loss: 0.045705555858214696, Train_acc 0.987016666667, Test_acc 0.9864\n",
      "Epoch 6. Loss: 0.04408224876200159, Train_acc 0.9849, Test_acc 0.983\n",
      "Epoch 7. Loss: 0.041383602644503116, Train_acc 0.989216666667, Test_acc 0.9867\n",
      "Epoch 8. Loss: 0.0393764697427551, Train_acc 0.989333333333, Test_acc 0.9852\n",
      "Epoch 9. Loss: 0.03803431306481361, Train_acc 0.99025, Test_acc 0.9871\n"
     ]
    }
   ],
   "source": [
    "def evaluate_accuracy(data_iterator, net):\n",
    "    \"\"\"Make predictions for the dataset and evaluate average accuracy.\"\"\"\n",
    "    acc = mx.metric.Accuracy()\n",
    "    for i, (data, label) in enumerate(data_iterator):\n",
    "        # ==== note the difference in raw data input shape ====\n",
    "        # use 4d tensor (batch_size, 1, 28, 28)\n",
    "        data = data.as_in_context(model_ctx)\n",
    "        label = label.as_in_context(model_ctx)\n",
    "        output = net(data)\n",
    "        predictions = nd.argmax(output, axis=1)\n",
    "        acc.update(preds=predictions, labels=label)\n",
    "    return acc.get()[1]\n",
    "\n",
    "trainer = gluon.Trainer(net.collect_params(), 'sgd', {'learning_rate': .01})\n",
    "\n",
    "epochs = 10\n",
    "smoothing_constant = .01\n",
    "num_examples = 60000\n",
    "\n",
    "for e in range(epochs):\n",
    "    cumulative_loss = 0\n",
    "    for i, (data, label) in enumerate(train_iter):\n",
    "        # ==== note the difference in raw data input shape ====\n",
    "        # use 4d tensor (batch_size, 1, 28, 28)\n",
    "        data = data.as_in_context(model_ctx)\n",
    "        label = label.as_in_context(model_ctx)\n",
    "        with autograd.record():\n",
    "            output = net(data)\n",
    "            loss = softmax_cross_entropy(output, label)\n",
    "        loss.backward()\n",
    "        trainer.step(data.shape[0])\n",
    "        cumulative_loss += nd.sum(loss).asscalar()\n",
    "\n",
    "    test_accuracy = evaluate_accuracy(test_iter, net)\n",
    "    train_accuracy = evaluate_accuracy(train_iter, net)\n",
    "    print(\"Epoch %s. Loss: %s, Train_acc %s, Test_acc %s\" %\n",
    "          (e, cumulative_loss/num_examples, train_accuracy, test_accuracy))"
   ]
  },
  {
   "cell_type": "code",
   "execution_count": null,
   "metadata": {},
   "outputs": [],
   "source": [
    "You should see that ConvNets achieve a higher accuracy than MLP."
   ]
  }
 ],
 "metadata": {
  "anaconda-cloud": {},
  "kernelspec": {
   "display_name": "Python 2",
   "language": "python",
   "name": "python2"
  },
  "language_info": {
   "codemirror_mode": {
    "name": "ipython",
    "version": 2
   },
   "file_extension": ".py",
   "mimetype": "text/x-python",
   "name": "python",
   "nbconvert_exporter": "python",
   "pygments_lexer": "ipython2",
   "version": "2.7.12"
  }
 },
 "nbformat": 4,
 "nbformat_minor": 1
}
