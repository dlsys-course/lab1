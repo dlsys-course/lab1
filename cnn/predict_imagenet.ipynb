{
 "cells": [
  {
   "cell_type": "markdown",
   "metadata": {
    "deletable": true,
    "editable": true
   },
   "source": [
    "# Predict with pre-trained models\n",
    "\n",
    "This is a demo for predicting with a pre-trained model on the full imagenet dataset, which contains over 10 million images and 10 thousands classes. For a more detailed explanation, please refer to [predict.ipynb](https://github.com/dmlc/mxnet-notebooks/blob/master/python/how_to/predict.ipynb).\n",
    "\n",
    "We first load the synset label file and pre-trained model."
   ]
  },
  {
   "cell_type": "code",
   "execution_count": null,
   "metadata": {
    "collapsed": false,
    "deletable": true,
    "editable": true
   },
   "outputs": [],
   "source": [
    "import os, urllib\n",
    "import mxnet as mx\n",
    "from modelzoo import download_model\n",
    "\n",
    "def download(url,prefix=''):\n",
    "    filename = prefix+url.split(\"/\")[-1]\n",
    "    if not os.path.exists(filename):\n",
    "        urllib.urlretrieve(url, filename)\n",
    "        \n",
    "def load_model(model_name):\n",
    "    (prefix, epoch) = download_model(model_name, dst_dir='models')\n",
    "    sym, arg_params, aux_params = mx.model.load_checkpoint(prefix, epoch)\n",
    "    mod = mx.mod.Module(symbol=sym, context=mx.gpu())\n",
    "    mod.bind(for_training=False, data_shapes=[('data', (1,3,224,224))])\n",
    "    mod.set_params(arg_params, aux_params)\n",
    "    return (sym, mod)\n",
    "\n",
    "# first download synset labels\n",
    "download('http://data.mxnet.io/models/imagenet/synset.txt', 'imagenet-')\n",
    "download('http://data.mxnet.io/models/imagenet-11k/synset.txt', 'imagenet-11k-')\n",
    "with open('imagenet-synset.txt', 'r') as f:\n",
    "    imagenet_synsets = [l.rstrip() for l in f]\n",
    "with open('imagenet-11k-synset.txt', 'r') as f:\n",
    "    imagenet_11k_synsets = [l.rstrip() for l in f]\n",
    "\n",
    "# load resnet model\n",
    "resnet, resnet_mod = load_model('imagenet1k-resnet-50')\n",
    "#resnet, resnet_mod = load_model('imagenet11k-resnet-152')"
   ]
  },
  {
   "cell_type": "markdown",
   "metadata": {
    "deletable": true,
    "editable": true
   },
   "source": [
    "Visualize the ResNet."
   ]
  },
  {
   "cell_type": "code",
   "execution_count": null,
   "metadata": {
    "collapsed": false,
    "deletable": true,
    "editable": true,
    "scrolled": true
   },
   "outputs": [],
   "source": [
    "mx.viz.plot_network(resnet)"
   ]
  },
  {
   "cell_type": "markdown",
   "metadata": {
    "deletable": true,
    "editable": true
   },
   "source": [
    "Next we define the function to obtain an image by a given URL and the function for predicting."
   ]
  },
  {
   "cell_type": "code",
   "execution_count": null,
   "metadata": {
    "collapsed": false,
    "deletable": true,
    "editable": true
   },
   "outputs": [],
   "source": [
    "%matplotlib inline\n",
    "import matplotlib\n",
    "matplotlib.rc(\"savefig\", dpi=100)\n",
    "import matplotlib.pyplot as plt\n",
    "import cv2\n",
    "import numpy as np\n",
    "from collections import namedtuple\n",
    "Batch = namedtuple('Batch', ['data'])\n",
    "\n",
    "def get_image(url, show=True):\n",
    "    filename = url.split(\"/\")[-1]\n",
    "    urllib.urlretrieve(url, filename)\n",
    "    img = cv2.imread(filename)\n",
    "    if img is None:\n",
    "        print('failed to download ' + url)\n",
    "    if show:\n",
    "        plt.imshow(cv2.cvtColor(img, cv2.COLOR_BGR2RGB))\n",
    "        plt.axis('off')\n",
    "    return filename\n",
    "\n",
    "def predict(filename, mod, synsets):\n",
    "    img = cv2.cvtColor(cv2.imread(filename), cv2.COLOR_BGR2RGB)\n",
    "    if img is None:\n",
    "        return None\n",
    "    img = cv2.resize(img, (224, 224))\n",
    "    img = np.swapaxes(img, 0, 2)\n",
    "    img = np.swapaxes(img, 1, 2) \n",
    "    img = img[np.newaxis, :] \n",
    "    \n",
    "    mod.forward(Batch([mx.nd.array(img)]))\n",
    "    prob = mod.get_outputs()[0].asnumpy()\n",
    "    prob = np.squeeze(prob)\n",
    "\n",
    "    a = np.argsort(prob)[::-1]    \n",
    "    for i in a[0:5]:\n",
    "        print('probability=%f, class=%s' %(prob[i], synsets[i]))\n",
    "    "
   ]
  },
  {
   "cell_type": "markdown",
   "metadata": {
    "deletable": true,
    "editable": true
   },
   "source": [
    "We are able to classify an image and output the top predicted classes. "
   ]
  },
  {
   "cell_type": "code",
   "execution_count": null,
   "metadata": {
    "collapsed": false,
    "deletable": true,
    "editable": true
   },
   "outputs": [],
   "source": [
    "url = 'http://writm.com/wp-content/uploads/2016/08/Cat-hd-wallpapers.jpg'\n",
    "predict(get_image(url), resnet_mod, imagenet_synsets)"
   ]
  },
  {
   "cell_type": "code",
   "execution_count": null,
   "metadata": {
    "collapsed": false,
    "deletable": true,
    "editable": true
   },
   "outputs": [],
   "source": [
    "url = 'https://images-na.ssl-images-amazon.com/images/G/01/img15/pet-products/small-tiles/23695_pets_vertical_store_dogs_small_tile_8._CB312176604_.jpg'\n",
    "predict(get_image(url), resnet_mod, imagenet_synsets)"
   ]
  }
 ],
 "metadata": {
  "kernelspec": {
   "display_name": "Python 2",
   "language": "python",
   "name": "python2"
  },
  "language_info": {
   "codemirror_mode": {
    "name": "ipython",
    "version": 2
   },
   "file_extension": ".py",
   "mimetype": "text/x-python",
   "name": "python",
   "nbconvert_exporter": "python",
   "pygments_lexer": "ipython2",
   "version": "2.7.13"
  }
 },
 "nbformat": 4,
 "nbformat_minor": 1
}
